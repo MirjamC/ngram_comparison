{
 "cells": [
  {
   "cell_type": "code",
   "execution_count": 1,
   "id": "7f64bfd9",
   "metadata": {},
   "outputs": [],
   "source": [
    "import pandas as pd\n",
    "import scipy.stats as stats\n",
    "import matplotlib.pyplot as plt\n",
    "from matplotlib_venn import venn2, venn2_circles"
   ]
  },
  {
   "cell_type": "code",
   "execution_count": 7,
   "id": "862071d2",
   "metadata": {},
   "outputs": [],
   "source": [
    "ngrams = ['bigram', 'trigram', 'fourgram']\n",
    "version1 = '1584_1883'\n",
    "version2 = 'na1947'\n",
    "ngramtypes = ['word', 'char']\n",
    "freq_cutoff = 0\n",
    "metrics = ['frequency']"
   ]
  },
  {
   "cell_type": "markdown",
   "id": "33c92819",
   "metadata": {},
   "source": [
    "## Similarity"
   ]
  },
  {
   "cell_type": "markdown",
   "id": "a354dbbf",
   "metadata": {},
   "source": [
    "### Between sets"
   ]
  },
  {
   "cell_type": "code",
   "execution_count": 8,
   "id": "930d697b",
   "metadata": {},
   "outputs": [],
   "source": [
    "def prepare_data(ngramtype, ngram, version1, version2, freq_cutoff):\n",
    "        data1 = pd.read_csv(f\"Data/{version1}_{ngramtype}_{ngram}.csv\", index_col = 0)\n",
    "        data1 = data1[data1['frequency'] > (freq_cutoff - 1) ]\n",
    "        data2 = pd.read_csv(f\"Data/{version2}_{ngramtype}_{ngram}.csv\", index_col = 0)\n",
    "        data2 = data2[data2['frequency'] > (freq_cutoff - 1)]\n",
    "        data = data1.merge(data2, on = ngram, how = 'outer')\n",
    "        data = data.fillna(0)\n",
    "        return data"
   ]
  },
  {
   "cell_type": "code",
   "execution_count": 9,
   "id": "b925ed48",
   "metadata": {},
   "outputs": [],
   "source": [
    "def wilcoxon(data, metrics):\n",
    "    outcome = []\n",
    "    for metric in metrics:\n",
    "        metric_x = f\"{metric}_x\"\n",
    "        metric_y = f\"{metric}_y\"\n",
    "        stat, pvalue = stats.wilcoxon(data[metric_x], data[metric_y])\n",
    "        if pvalue < 0.05:\n",
    "            sign = 'yes'\n",
    "        else:\n",
    "            sign = 'no'\n",
    "        outcome.append([ngramtype, version1 + \" vs \" + version2, ngram, metric, pvalue, sign])\n",
    "    return outcome"
   ]
  },
  {
   "cell_type": "code",
   "execution_count": 17,
   "id": "f0cc03ba",
   "metadata": {},
   "outputs": [
    {
     "name": "stdout",
     "output_type": "stream",
     "text": [
      "bigram\n",
      "trigram\n",
      "fourgram\n",
      "bigram\n",
      "trigram\n",
      "fourgram\n"
     ]
    }
   ],
   "source": [
    "outcomes = []\n",
    "\n",
    "for ngramtype in ngramtypes:\n",
    "    for ngram in ngrams:\n",
    "        print(ngram)\n",
    "        res = wilcoxon(prepare_data(ngramtype, ngram, version1, version2, freq_cutoff), metrics)\n",
    "        outcomes.extend(res)"
   ]
  },
  {
   "cell_type": "code",
   "execution_count": 18,
   "id": "1631518c",
   "metadata": {},
   "outputs": [],
   "source": [
    "outcomes_df = pd.DataFrame(outcomes, columns = ['ngram type','version', 'ngram', 'metric', 'pvalue', 'significant'])"
   ]
  },
  {
   "cell_type": "code",
   "execution_count": 19,
   "id": "21b1454d",
   "metadata": {},
   "outputs": [
    {
     "data": {
      "text/html": [
       "<div>\n",
       "<style scoped>\n",
       "    .dataframe tbody tr th:only-of-type {\n",
       "        vertical-align: middle;\n",
       "    }\n",
       "\n",
       "    .dataframe tbody tr th {\n",
       "        vertical-align: top;\n",
       "    }\n",
       "\n",
       "    .dataframe thead th {\n",
       "        text-align: right;\n",
       "    }\n",
       "</style>\n",
       "<table border=\"1\" class=\"dataframe\">\n",
       "  <thead>\n",
       "    <tr style=\"text-align: right;\">\n",
       "      <th></th>\n",
       "      <th>ngram type</th>\n",
       "      <th>version</th>\n",
       "      <th>ngram</th>\n",
       "      <th>metric</th>\n",
       "      <th>pvalue</th>\n",
       "      <th>significant</th>\n",
       "    </tr>\n",
       "  </thead>\n",
       "  <tbody>\n",
       "    <tr>\n",
       "      <th>0</th>\n",
       "      <td>word</td>\n",
       "      <td>1584_1883 vs na1947</td>\n",
       "      <td>bigram</td>\n",
       "      <td>frequency</td>\n",
       "      <td>0.000000e+00</td>\n",
       "      <td>yes</td>\n",
       "    </tr>\n",
       "    <tr>\n",
       "      <th>1</th>\n",
       "      <td>word</td>\n",
       "      <td>1584_1883 vs na1947</td>\n",
       "      <td>trigram</td>\n",
       "      <td>frequency</td>\n",
       "      <td>2.887161e-292</td>\n",
       "      <td>yes</td>\n",
       "    </tr>\n",
       "    <tr>\n",
       "      <th>2</th>\n",
       "      <td>word</td>\n",
       "      <td>1584_1883 vs na1947</td>\n",
       "      <td>fourgram</td>\n",
       "      <td>frequency</td>\n",
       "      <td>6.692609e-02</td>\n",
       "      <td>no</td>\n",
       "    </tr>\n",
       "    <tr>\n",
       "      <th>3</th>\n",
       "      <td>char</td>\n",
       "      <td>1584_1883 vs na1947</td>\n",
       "      <td>bigram</td>\n",
       "      <td>frequency</td>\n",
       "      <td>1.092703e-01</td>\n",
       "      <td>no</td>\n",
       "    </tr>\n",
       "    <tr>\n",
       "      <th>4</th>\n",
       "      <td>char</td>\n",
       "      <td>1584_1883 vs na1947</td>\n",
       "      <td>trigram</td>\n",
       "      <td>frequency</td>\n",
       "      <td>7.942572e-01</td>\n",
       "      <td>no</td>\n",
       "    </tr>\n",
       "    <tr>\n",
       "      <th>5</th>\n",
       "      <td>char</td>\n",
       "      <td>1584_1883 vs na1947</td>\n",
       "      <td>fourgram</td>\n",
       "      <td>frequency</td>\n",
       "      <td>4.912891e-02</td>\n",
       "      <td>yes</td>\n",
       "    </tr>\n",
       "  </tbody>\n",
       "</table>\n",
       "</div>"
      ],
      "text/plain": [
       "  ngram type              version     ngram     metric         pvalue  \\\n",
       "0       word  1584_1883 vs na1947    bigram  frequency   0.000000e+00   \n",
       "1       word  1584_1883 vs na1947   trigram  frequency  2.887161e-292   \n",
       "2       word  1584_1883 vs na1947  fourgram  frequency   6.692609e-02   \n",
       "3       char  1584_1883 vs na1947    bigram  frequency   1.092703e-01   \n",
       "4       char  1584_1883 vs na1947   trigram  frequency   7.942572e-01   \n",
       "5       char  1584_1883 vs na1947  fourgram  frequency   4.912891e-02   \n",
       "\n",
       "  significant  \n",
       "0         yes  \n",
       "1         yes  \n",
       "2          no  \n",
       "3          no  \n",
       "4          no  \n",
       "5         yes  "
      ]
     },
     "execution_count": 19,
     "metadata": {},
     "output_type": "execute_result"
    }
   ],
   "source": [
    "outcomes_df"
   ]
  },
  {
   "cell_type": "code",
   "execution_count": 26,
   "id": "2bba059d",
   "metadata": {},
   "outputs": [
    {
     "name": "stdout",
     "output_type": "stream",
     "text": [
      "|    | ngram type   | version             | ngram    | metric    |       pvalue | significant   |\n",
      "|---:|:-------------|:--------------------|:---------|:----------|-------------:|:--------------|\n",
      "|  0 | word         | 1584_1883 vs na1947 | bigram   | frequency | 0            | yes           |\n",
      "|  1 | word         | 1584_1883 vs na1947 | trigram  | frequency | 2.88716e-292 | yes           |\n",
      "|  2 | word         | 1584_1883 vs na1947 | fourgram | frequency | 0.0669261    | no            |\n",
      "|  3 | char         | 1584_1883 vs na1947 | bigram   | frequency | 0.10927      | no            |\n",
      "|  4 | char         | 1584_1883 vs na1947 | trigram  | frequency | 0.794257     | no            |\n",
      "|  5 | char         | 1584_1883 vs na1947 | fourgram | frequency | 0.0491289    | yes           |\n"
     ]
    }
   ],
   "source": [
    "print(outcomes_df.to_markdown())"
   ]
  },
  {
   "cell_type": "markdown",
   "id": "1ffb4b26",
   "metadata": {},
   "source": [
    "### Between samples"
   ]
  },
  {
   "cell_type": "code",
   "execution_count": 27,
   "id": "72e1f313",
   "metadata": {},
   "outputs": [],
   "source": [
    "def prepare_data(ngram, version, freq_cutoff):\n",
    "        data1 = pd.read_csv(f\"Data/{version1}_{ngramtype}_{ngram}_sample1.csv\", index_col = 0)\n",
    "        data1 = data1[data1['frequency'] > (freq_cutoff - 1) ]\n",
    "        data2 = pd.read_csv(f\"Data/{version2}_{ngramtype}_{ngram}_sample2.csv\", index_col = 0)\n",
    "        data2 = data2[data2['frequency'] > (freq_cutoff - 1)]\n",
    "        data = data1.merge(data2, on = ngram, how = 'outer')\n",
    "        data = data.fillna(0)\n",
    "        return data"
   ]
  },
  {
   "cell_type": "code",
   "execution_count": 29,
   "id": "04919fec",
   "metadata": {},
   "outputs": [
    {
     "name": "stdout",
     "output_type": "stream",
     "text": [
      "bigram\n",
      "trigram\n",
      "fourgram\n",
      "bigram\n",
      "trigram\n",
      "fourgram\n"
     ]
    }
   ],
   "source": [
    "version1 = '1584_1883'\n",
    "version2 = '1584_1883'\n",
    "\n",
    "outcomes = []\n",
    "\n",
    "for ngramtype in ngramtypes:\n",
    "    for ngram in ngrams:\n",
    "        print(ngram)\n",
    "        res = wilcoxon(prepare_data(ngram, '1584_1883', freq_cutoff), metrics)\n",
    "        outcomes.extend(res)"
   ]
  },
  {
   "cell_type": "code",
   "execution_count": 31,
   "id": "a614ef5a",
   "metadata": {},
   "outputs": [
    {
     "data": {
      "text/html": [
       "<div>\n",
       "<style scoped>\n",
       "    .dataframe tbody tr th:only-of-type {\n",
       "        vertical-align: middle;\n",
       "    }\n",
       "\n",
       "    .dataframe tbody tr th {\n",
       "        vertical-align: top;\n",
       "    }\n",
       "\n",
       "    .dataframe thead th {\n",
       "        text-align: right;\n",
       "    }\n",
       "</style>\n",
       "<table border=\"1\" class=\"dataframe\">\n",
       "  <thead>\n",
       "    <tr style=\"text-align: right;\">\n",
       "      <th></th>\n",
       "      <th>ngram type</th>\n",
       "      <th>version</th>\n",
       "      <th>ngram</th>\n",
       "      <th>metric</th>\n",
       "      <th>pvalue</th>\n",
       "      <th>significant</th>\n",
       "    </tr>\n",
       "  </thead>\n",
       "  <tbody>\n",
       "    <tr>\n",
       "      <th>0</th>\n",
       "      <td>word</td>\n",
       "      <td>1584_1883 vs 1584_1883</td>\n",
       "      <td>bigram</td>\n",
       "      <td>frequency</td>\n",
       "      <td>3.264244e-12</td>\n",
       "      <td>yes</td>\n",
       "    </tr>\n",
       "    <tr>\n",
       "      <th>1</th>\n",
       "      <td>word</td>\n",
       "      <td>1584_1883 vs 1584_1883</td>\n",
       "      <td>trigram</td>\n",
       "      <td>frequency</td>\n",
       "      <td>1.372706e-27</td>\n",
       "      <td>yes</td>\n",
       "    </tr>\n",
       "    <tr>\n",
       "      <th>2</th>\n",
       "      <td>word</td>\n",
       "      <td>1584_1883 vs 1584_1883</td>\n",
       "      <td>fourgram</td>\n",
       "      <td>frequency</td>\n",
       "      <td>2.322993e-34</td>\n",
       "      <td>yes</td>\n",
       "    </tr>\n",
       "    <tr>\n",
       "      <th>3</th>\n",
       "      <td>char</td>\n",
       "      <td>1584_1883 vs 1584_1883</td>\n",
       "      <td>bigram</td>\n",
       "      <td>frequency</td>\n",
       "      <td>1.447211e-22</td>\n",
       "      <td>yes</td>\n",
       "    </tr>\n",
       "    <tr>\n",
       "      <th>4</th>\n",
       "      <td>char</td>\n",
       "      <td>1584_1883 vs 1584_1883</td>\n",
       "      <td>trigram</td>\n",
       "      <td>frequency</td>\n",
       "      <td>3.862959e-28</td>\n",
       "      <td>yes</td>\n",
       "    </tr>\n",
       "    <tr>\n",
       "      <th>5</th>\n",
       "      <td>char</td>\n",
       "      <td>1584_1883 vs 1584_1883</td>\n",
       "      <td>fourgram</td>\n",
       "      <td>frequency</td>\n",
       "      <td>2.724010e-23</td>\n",
       "      <td>yes</td>\n",
       "    </tr>\n",
       "  </tbody>\n",
       "</table>\n",
       "</div>"
      ],
      "text/plain": [
       "  ngram type                 version     ngram     metric        pvalue  \\\n",
       "0       word  1584_1883 vs 1584_1883    bigram  frequency  3.264244e-12   \n",
       "1       word  1584_1883 vs 1584_1883   trigram  frequency  1.372706e-27   \n",
       "2       word  1584_1883 vs 1584_1883  fourgram  frequency  2.322993e-34   \n",
       "3       char  1584_1883 vs 1584_1883    bigram  frequency  1.447211e-22   \n",
       "4       char  1584_1883 vs 1584_1883   trigram  frequency  3.862959e-28   \n",
       "5       char  1584_1883 vs 1584_1883  fourgram  frequency  2.724010e-23   \n",
       "\n",
       "  significant  \n",
       "0         yes  \n",
       "1         yes  \n",
       "2         yes  \n",
       "3         yes  \n",
       "4         yes  \n",
       "5         yes  "
      ]
     },
     "execution_count": 31,
     "metadata": {},
     "output_type": "execute_result"
    }
   ],
   "source": [
    "outcomes_df = pd.DataFrame(outcomes, columns = ['ngram type','version', 'ngram', 'metric', 'pvalue', 'significant'])\n",
    "outcomes_df"
   ]
  },
  {
   "cell_type": "code",
   "execution_count": 32,
   "id": "6d74dd09",
   "metadata": {},
   "outputs": [
    {
     "name": "stdout",
     "output_type": "stream",
     "text": [
      "bigram\n",
      "trigram\n",
      "fourgram\n",
      "bigram\n",
      "trigram\n",
      "fourgram\n"
     ]
    }
   ],
   "source": [
    "version1 = 'na1947'\n",
    "version2 = 'na1947'\n",
    "outcomes = []\n",
    "\n",
    "for ngramtype in ngramtypes:\n",
    "    for ngram in ngrams:\n",
    "        print(ngram)\n",
    "        res = wilcoxon(prepare_data(ngram, 'na1947', freq_cutoff), metrics)\n",
    "        outcomes.extend(res)"
   ]
  },
  {
   "cell_type": "code",
   "execution_count": 34,
   "id": "22bad797",
   "metadata": {},
   "outputs": [
    {
     "data": {
      "text/html": [
       "<div>\n",
       "<style scoped>\n",
       "    .dataframe tbody tr th:only-of-type {\n",
       "        vertical-align: middle;\n",
       "    }\n",
       "\n",
       "    .dataframe tbody tr th {\n",
       "        vertical-align: top;\n",
       "    }\n",
       "\n",
       "    .dataframe thead th {\n",
       "        text-align: right;\n",
       "    }\n",
       "</style>\n",
       "<table border=\"1\" class=\"dataframe\">\n",
       "  <thead>\n",
       "    <tr style=\"text-align: right;\">\n",
       "      <th></th>\n",
       "      <th>ngram type</th>\n",
       "      <th>version</th>\n",
       "      <th>ngram</th>\n",
       "      <th>metric</th>\n",
       "      <th>pvalue</th>\n",
       "      <th>significant</th>\n",
       "    </tr>\n",
       "  </thead>\n",
       "  <tbody>\n",
       "    <tr>\n",
       "      <th>0</th>\n",
       "      <td>word</td>\n",
       "      <td>na1947 vs na1947</td>\n",
       "      <td>bigram</td>\n",
       "      <td>frequency</td>\n",
       "      <td>0.101108</td>\n",
       "      <td>no</td>\n",
       "    </tr>\n",
       "    <tr>\n",
       "      <th>1</th>\n",
       "      <td>word</td>\n",
       "      <td>na1947 vs na1947</td>\n",
       "      <td>trigram</td>\n",
       "      <td>frequency</td>\n",
       "      <td>0.176628</td>\n",
       "      <td>no</td>\n",
       "    </tr>\n",
       "    <tr>\n",
       "      <th>2</th>\n",
       "      <td>word</td>\n",
       "      <td>na1947 vs na1947</td>\n",
       "      <td>fourgram</td>\n",
       "      <td>frequency</td>\n",
       "      <td>0.225586</td>\n",
       "      <td>no</td>\n",
       "    </tr>\n",
       "    <tr>\n",
       "      <th>3</th>\n",
       "      <td>char</td>\n",
       "      <td>na1947 vs na1947</td>\n",
       "      <td>bigram</td>\n",
       "      <td>frequency</td>\n",
       "      <td>0.006923</td>\n",
       "      <td>yes</td>\n",
       "    </tr>\n",
       "    <tr>\n",
       "      <th>4</th>\n",
       "      <td>char</td>\n",
       "      <td>na1947 vs na1947</td>\n",
       "      <td>trigram</td>\n",
       "      <td>frequency</td>\n",
       "      <td>0.006156</td>\n",
       "      <td>yes</td>\n",
       "    </tr>\n",
       "    <tr>\n",
       "      <th>5</th>\n",
       "      <td>char</td>\n",
       "      <td>na1947 vs na1947</td>\n",
       "      <td>fourgram</td>\n",
       "      <td>frequency</td>\n",
       "      <td>0.002520</td>\n",
       "      <td>yes</td>\n",
       "    </tr>\n",
       "  </tbody>\n",
       "</table>\n",
       "</div>"
      ],
      "text/plain": [
       "  ngram type           version     ngram     metric    pvalue significant\n",
       "0       word  na1947 vs na1947    bigram  frequency  0.101108          no\n",
       "1       word  na1947 vs na1947   trigram  frequency  0.176628          no\n",
       "2       word  na1947 vs na1947  fourgram  frequency  0.225586          no\n",
       "3       char  na1947 vs na1947    bigram  frequency  0.006923         yes\n",
       "4       char  na1947 vs na1947   trigram  frequency  0.006156         yes\n",
       "5       char  na1947 vs na1947  fourgram  frequency  0.002520         yes"
      ]
     },
     "execution_count": 34,
     "metadata": {},
     "output_type": "execute_result"
    }
   ],
   "source": [
    "outcomes_df = pd.DataFrame(outcomes, columns = ['ngram type','version', 'ngram', 'metric', 'pvalue', 'significant'])\n",
    "outcomes_df"
   ]
  },
  {
   "cell_type": "markdown",
   "id": "10a46303",
   "metadata": {},
   "source": [
    "## Overlap"
   ]
  },
  {
   "cell_type": "code",
   "execution_count": 35,
   "id": "e86a27f2",
   "metadata": {},
   "outputs": [],
   "source": [
    "def prepare_data_overlap(ngram, version1, version2, freq_cutoff):\n",
    "        data1 = pd.read_csv(f\"Data/{version1}_{ngramtype}_{ngram}.csv\", index_col = 0)\n",
    "        data1 = data1[data1['frequency'] > (freq_cutoff - 1) ]\n",
    "        data2 = pd.read_csv(f\"Data/{version2}_{ngramtype}_{ngram}.csv\", index_col = 0)\n",
    "        data2 = data2[data2['frequency'] > (freq_cutoff - 1)]\n",
    "        data1 = data1[ngram].to_list()\n",
    "        data2 = data2[ngram].to_list()\n",
    "        return data1, data2"
   ]
  },
  {
   "cell_type": "code",
   "execution_count": 36,
   "id": "a014a33c",
   "metadata": {},
   "outputs": [
    {
     "name": "stdout",
     "output_type": "stream",
     "text": [
      "Overlap word, bigram, 1584_1883 : 14.301498420054127\n",
      "Overlap word, bigram,na1947 : 16.759149516934237\n",
      "Overlap word, trigram, 1584_1883 : 5.894678520160173\n",
      "Overlap word, trigram,na1947 : 6.4417760432864455\n",
      "Overlap word, fourgram, 1584_1883 : 2.1338118438626736\n",
      "Overlap word, fourgram,na1947 : 2.197427000768216\n",
      "Overlap char, bigram, 1584_1883 : 70.5\n",
      "Overlap char, bigram,na1947 : 80.31645569620252\n",
      "Overlap char, trigram, 1584_1883 : 71.66527323858021\n",
      "Overlap char, trigram,na1947 : 76.5713821666396\n",
      "Overlap char, fourgram, 1584_1883 : 63.12237945492662\n",
      "Overlap char, fourgram,na1947 : 68.30305715551617\n"
     ]
    }
   ],
   "source": [
    "version1 = '1584_1883'\n",
    "version2 = 'na1947'\n",
    "\n",
    "for ngramtype in ngramtypes:\n",
    "    for ngram in ngrams:\n",
    "        #print(ngram)\n",
    "        data1, data2 = prepare_data_overlap(ngram, version1, version2, freq_cutoff)\n",
    "        len1 = len(set(data1))\n",
    "        #print(len1)\n",
    "        len2 = (len(set(data2)))\n",
    "        #print(len2)\n",
    "        overlap = set(data1).intersection(set(data2))\n",
    "        #print(len(overlap))\n",
    "        print(f'Overlap {ngramtype}, {ngram}, {version1} : {((len(overlap)/len1)*100)}')\n",
    "        print(f'Overlap {ngramtype}, {ngram},{version2} : {((len(overlap)/len2)*100)}')"
   ]
  },
  {
   "cell_type": "code",
   "execution_count": 1,
   "id": "b82c72c7",
   "metadata": {},
   "outputs": [],
   "source": [
    "def venn(ngramtype, ngram, version1, version2):   \n",
    "    data1 = pd.read_csv(f\"Data/{version1}_{ngramtype}_{ngram}.csv\", index_col = 0)\n",
    "    data1 = data1[data1['frequency'] > (freq_cutoff - 1) ]\n",
    "    data2 = pd.read_csv(f\"Data/{version2}_{ngramtype}_{ngram}.csv\", index_col = 0)\n",
    "    data2 = data2[data2['frequency'] > (freq_cutoff - 1)]\n",
    "    data_grams1 = data1[ngram].to_list()\n",
    "    data_grams2 = data2[ngram].to_list()\n",
    "    venn2([set(data_grams1), set(data_grams2)], \n",
    "    set_colors=('#3E64AF', '#3EAF5D'), \n",
    "    set_labels = (f'{ngramtype} {ngram} {version1}', \n",
    "                    f'{ngramtype} {ngram} {version2}'),\n",
    "                      alpha=0.75)\n",
    "    plt.title(\"Cut-off freqiencies at 0\")\n",
    "    venn2_circles([set(data_grams1), set(data_grams2)], lw=0.7)\n",
    "    return plt"
   ]
  },
  {
   "cell_type": "code",
   "execution_count": 2,
   "id": "8d240b8e",
   "metadata": {},
   "outputs": [
    {
     "ename": "NameError",
     "evalue": "name 'ngramtypes' is not defined",
     "output_type": "error",
     "traceback": [
      "\u001b[1;31m---------------------------------------------------------------------------\u001b[0m",
      "\u001b[1;31mNameError\u001b[0m                                 Traceback (most recent call last)",
      "Input \u001b[1;32mIn [2]\u001b[0m, in \u001b[0;36m<cell line: 1>\u001b[1;34m()\u001b[0m\n\u001b[1;32m----> 1\u001b[0m \u001b[38;5;28;01mfor\u001b[39;00m ngramtype \u001b[38;5;129;01min\u001b[39;00m \u001b[43mngramtypes\u001b[49m:\n\u001b[0;32m      2\u001b[0m     \u001b[38;5;28;01mfor\u001b[39;00m ngram \u001b[38;5;129;01min\u001b[39;00m ngrams:\n\u001b[0;32m      3\u001b[0m         \u001b[38;5;28mprint\u001b[39m(ngram)\n",
      "\u001b[1;31mNameError\u001b[0m: name 'ngramtypes' is not defined"
     ]
    }
   ],
   "source": [
    "for ngramtype in ngramtypes:\n",
    "    for ngram in ngrams:\n",
    "        print(ngram)\n",
    "        plt =  venn(ngramtype, ngram, version1, version2)\n",
    "        plt.savefig(f\"Images/{ngramtype}{ngram}.jpg\")\n",
    "        plt.show()"
   ]
  },
  {
   "cell_type": "code",
   "execution_count": null,
   "id": "4fc374b4",
   "metadata": {},
   "outputs": [],
   "source": []
  }
 ],
 "metadata": {
  "kernelspec": {
   "display_name": "Python 3 (ipykernel)",
   "language": "python",
   "name": "python3"
  },
  "language_info": {
   "codemirror_mode": {
    "name": "ipython",
    "version": 3
   },
   "file_extension": ".py",
   "mimetype": "text/x-python",
   "name": "python",
   "nbconvert_exporter": "python",
   "pygments_lexer": "ipython3",
   "version": "3.9.12"
  }
 },
 "nbformat": 4,
 "nbformat_minor": 5
}
