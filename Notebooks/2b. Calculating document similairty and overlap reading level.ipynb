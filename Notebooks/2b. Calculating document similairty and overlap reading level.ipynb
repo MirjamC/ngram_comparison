{
 "cells": [
  {
   "cell_type": "code",
   "execution_count": 1,
   "id": "7f64bfd9",
   "metadata": {},
   "outputs": [],
   "source": [
    "import pandas as pd\n",
    "import scipy.stats as stats\n",
    "import matplotlib.pyplot as plt\n",
    "from matplotlib_venn import venn2, venn2_circles"
   ]
  },
  {
   "cell_type": "code",
   "execution_count": 2,
   "id": "862071d2",
   "metadata": {},
   "outputs": [],
   "source": [
    "ngrams = ['bigram', 'trigram', 'fourgram']\n",
    "version1 = 'simple'\n",
    "version2 = 'normal'\n",
    "ngramtypes = ['word', 'char']\n",
    "freq_cutoff = 0\n",
    "metrics = ['frequency']\n",
    "outcomes = []"
   ]
  },
  {
   "cell_type": "markdown",
   "id": "33c92819",
   "metadata": {},
   "source": [
    "## Similarity"
   ]
  },
  {
   "cell_type": "markdown",
   "id": "a354dbbf",
   "metadata": {},
   "source": [
    "### Between sets"
   ]
  },
  {
   "cell_type": "code",
   "execution_count": 3,
   "id": "930d697b",
   "metadata": {},
   "outputs": [],
   "source": [
    "def prepare_data(ngram, version1, version2, freq_cutoff):\n",
    "        data1 = pd.read_csv(f\"Data/{version1}_{ngramtype}_{ngram}.csv\", index_col = 0)\n",
    "        data1 = data1[data1['frequency'] > (freq_cutoff - 1) ]\n",
    "        data2 = pd.read_csv(f\"Data/{version2}_{ngramtype}_{ngram}.csv\", index_col = 0)\n",
    "        data2 = data2[data2['frequency'] > (freq_cutoff - 1)]\n",
    "        data = data1.merge(data2, on = ngram, how = 'outer')\n",
    "        data = data.fillna(0)\n",
    "        return data"
   ]
  },
  {
   "cell_type": "code",
   "execution_count": 4,
   "id": "b925ed48",
   "metadata": {},
   "outputs": [],
   "source": [
    "def wilcoxon(data, metrics):\n",
    "    outcome = []\n",
    "    for metric in metrics:\n",
    "        metric_x = f\"{metric}_x\"\n",
    "        metric_y = f\"{metric}_y\"\n",
    "        stat, pvalue = stats.wilcoxon(data[metric_x], data[metric_y])\n",
    "        if pvalue < 0.05:\n",
    "            sign = 'yes'\n",
    "        else:\n",
    "            sign = 'no'\n",
    "        outcome.append([ngramtype, version1 + \" vs \" + version2, ngram, metric, pvalue, sign])\n",
    "    return outcome"
   ]
  },
  {
   "cell_type": "code",
   "execution_count": 5,
   "id": "f0cc03ba",
   "metadata": {},
   "outputs": [
    {
     "name": "stdout",
     "output_type": "stream",
     "text": [
      "bigram\n",
      "trigram\n",
      "fourgram\n",
      "bigram\n",
      "trigram\n",
      "fourgram\n"
     ]
    }
   ],
   "source": [
    "outcomes = []\n",
    "\n",
    "for ngramtype in ngramtypes:\n",
    "    for ngram in ngrams:\n",
    "        print(ngram)\n",
    "        res = wilcoxon(prepare_data(ngram, version1, version2, freq_cutoff), metrics)\n",
    "        outcomes.extend(res)"
   ]
  },
  {
   "cell_type": "code",
   "execution_count": 6,
   "id": "1631518c",
   "metadata": {},
   "outputs": [],
   "source": [
    "outcomes_df = pd.DataFrame(outcomes, columns = ['ngram type','version', 'ngram', 'metric', 'pvalue', 'significant'])"
   ]
  },
  {
   "cell_type": "code",
   "execution_count": 7,
   "id": "21b1454d",
   "metadata": {},
   "outputs": [
    {
     "data": {
      "text/html": [
       "<div>\n",
       "<style scoped>\n",
       "    .dataframe tbody tr th:only-of-type {\n",
       "        vertical-align: middle;\n",
       "    }\n",
       "\n",
       "    .dataframe tbody tr th {\n",
       "        vertical-align: top;\n",
       "    }\n",
       "\n",
       "    .dataframe thead th {\n",
       "        text-align: right;\n",
       "    }\n",
       "</style>\n",
       "<table border=\"1\" class=\"dataframe\">\n",
       "  <thead>\n",
       "    <tr style=\"text-align: right;\">\n",
       "      <th></th>\n",
       "      <th>ngram type</th>\n",
       "      <th>version</th>\n",
       "      <th>ngram</th>\n",
       "      <th>metric</th>\n",
       "      <th>pvalue</th>\n",
       "      <th>significant</th>\n",
       "    </tr>\n",
       "  </thead>\n",
       "  <tbody>\n",
       "    <tr>\n",
       "      <th>0</th>\n",
       "      <td>word</td>\n",
       "      <td>simple vs normal</td>\n",
       "      <td>bigram</td>\n",
       "      <td>frequency</td>\n",
       "      <td>0.000000e+00</td>\n",
       "      <td>yes</td>\n",
       "    </tr>\n",
       "    <tr>\n",
       "      <th>1</th>\n",
       "      <td>word</td>\n",
       "      <td>simple vs normal</td>\n",
       "      <td>trigram</td>\n",
       "      <td>frequency</td>\n",
       "      <td>0.000000e+00</td>\n",
       "      <td>yes</td>\n",
       "    </tr>\n",
       "    <tr>\n",
       "      <th>2</th>\n",
       "      <td>word</td>\n",
       "      <td>simple vs normal</td>\n",
       "      <td>fourgram</td>\n",
       "      <td>frequency</td>\n",
       "      <td>0.000000e+00</td>\n",
       "      <td>yes</td>\n",
       "    </tr>\n",
       "    <tr>\n",
       "      <th>3</th>\n",
       "      <td>char</td>\n",
       "      <td>simple vs normal</td>\n",
       "      <td>bigram</td>\n",
       "      <td>frequency</td>\n",
       "      <td>8.563636e-24</td>\n",
       "      <td>yes</td>\n",
       "    </tr>\n",
       "    <tr>\n",
       "      <th>4</th>\n",
       "      <td>char</td>\n",
       "      <td>simple vs normal</td>\n",
       "      <td>trigram</td>\n",
       "      <td>frequency</td>\n",
       "      <td>3.660575e-276</td>\n",
       "      <td>yes</td>\n",
       "    </tr>\n",
       "    <tr>\n",
       "      <th>5</th>\n",
       "      <td>char</td>\n",
       "      <td>simple vs normal</td>\n",
       "      <td>fourgram</td>\n",
       "      <td>frequency</td>\n",
       "      <td>0.000000e+00</td>\n",
       "      <td>yes</td>\n",
       "    </tr>\n",
       "  </tbody>\n",
       "</table>\n",
       "</div>"
      ],
      "text/plain": [
       "  ngram type           version     ngram     metric         pvalue significant\n",
       "0       word  simple vs normal    bigram  frequency   0.000000e+00         yes\n",
       "1       word  simple vs normal   trigram  frequency   0.000000e+00         yes\n",
       "2       word  simple vs normal  fourgram  frequency   0.000000e+00         yes\n",
       "3       char  simple vs normal    bigram  frequency   8.563636e-24         yes\n",
       "4       char  simple vs normal   trigram  frequency  3.660575e-276         yes\n",
       "5       char  simple vs normal  fourgram  frequency   0.000000e+00         yes"
      ]
     },
     "execution_count": 7,
     "metadata": {},
     "output_type": "execute_result"
    }
   ],
   "source": [
    "outcomes_df"
   ]
  },
  {
   "cell_type": "code",
   "execution_count": 8,
   "id": "b4f15888",
   "metadata": {},
   "outputs": [
    {
     "name": "stdout",
     "output_type": "stream",
     "text": [
      "|    | ngram type   | version          | ngram    | metric    |       pvalue | significant   |\n",
      "|---:|:-------------|:-----------------|:---------|:----------|-------------:|:--------------|\n",
      "|  0 | word         | simple vs normal | bigram   | frequency | 0            | yes           |\n",
      "|  1 | word         | simple vs normal | trigram  | frequency | 0            | yes           |\n",
      "|  2 | word         | simple vs normal | fourgram | frequency | 0            | yes           |\n",
      "|  3 | char         | simple vs normal | bigram   | frequency | 8.56364e-24  | yes           |\n",
      "|  4 | char         | simple vs normal | trigram  | frequency | 3.66058e-276 | yes           |\n",
      "|  5 | char         | simple vs normal | fourgram | frequency | 0            | yes           |\n"
     ]
    }
   ],
   "source": [
    "print(outcomes_df.to_markdown())"
   ]
  },
  {
   "cell_type": "markdown",
   "id": "1ffb4b26",
   "metadata": {},
   "source": [
    "### Between samples"
   ]
  },
  {
   "cell_type": "code",
   "execution_count": 9,
   "id": "72e1f313",
   "metadata": {},
   "outputs": [],
   "source": [
    "def prepare_data(ngram, version, freq_cutoff):\n",
    "        data1 = pd.read_csv(f\"Data/{version1}_{ngramtype}_{ngram}_sample1.csv\", index_col = 0)\n",
    "        data1 = data1[data1['frequency'] > (freq_cutoff - 1) ]\n",
    "        data2 = pd.read_csv(f\"Data/{version2}_{ngramtype}_{ngram}_sample2.csv\", index_col = 0)\n",
    "        data2 = data2[data2['frequency'] > (freq_cutoff - 1)]\n",
    "        data = data1.merge(data2, on = ngram, how = 'outer')\n",
    "        data = data.fillna(0)\n",
    "        return data"
   ]
  },
  {
   "cell_type": "code",
   "execution_count": 10,
   "id": "04919fec",
   "metadata": {},
   "outputs": [
    {
     "name": "stdout",
     "output_type": "stream",
     "text": [
      "bigram\n",
      "trigram\n",
      "fourgram\n",
      "bigram\n",
      "trigram\n",
      "fourgram\n"
     ]
    }
   ],
   "source": [
    "version1 = 'simple'\n",
    "version2 = 'simple'\n",
    "\n",
    "outcomes = []\n",
    "\n",
    "for ngramtype in ngramtypes:\n",
    "    for ngram in ngrams:\n",
    "        print(ngram)\n",
    "        res = wilcoxon(prepare_data(ngram, 'simple', freq_cutoff), metrics)\n",
    "        outcomes.extend(res)"
   ]
  },
  {
   "cell_type": "code",
   "execution_count": 13,
   "id": "a614ef5a",
   "metadata": {},
   "outputs": [
    {
     "data": {
      "text/html": [
       "<div>\n",
       "<style scoped>\n",
       "    .dataframe tbody tr th:only-of-type {\n",
       "        vertical-align: middle;\n",
       "    }\n",
       "\n",
       "    .dataframe tbody tr th {\n",
       "        vertical-align: top;\n",
       "    }\n",
       "\n",
       "    .dataframe thead th {\n",
       "        text-align: right;\n",
       "    }\n",
       "</style>\n",
       "<table border=\"1\" class=\"dataframe\">\n",
       "  <thead>\n",
       "    <tr style=\"text-align: right;\">\n",
       "      <th></th>\n",
       "      <th>ngram type</th>\n",
       "      <th>version</th>\n",
       "      <th>ngram</th>\n",
       "      <th>metric</th>\n",
       "      <th>pvalue</th>\n",
       "      <th>significant</th>\n",
       "    </tr>\n",
       "  </thead>\n",
       "  <tbody>\n",
       "    <tr>\n",
       "      <th>0</th>\n",
       "      <td>word</td>\n",
       "      <td>simple vs simple</td>\n",
       "      <td>bigram</td>\n",
       "      <td>frequency</td>\n",
       "      <td>0.831348</td>\n",
       "      <td>no</td>\n",
       "    </tr>\n",
       "    <tr>\n",
       "      <th>1</th>\n",
       "      <td>word</td>\n",
       "      <td>simple vs simple</td>\n",
       "      <td>trigram</td>\n",
       "      <td>frequency</td>\n",
       "      <td>0.340116</td>\n",
       "      <td>no</td>\n",
       "    </tr>\n",
       "    <tr>\n",
       "      <th>2</th>\n",
       "      <td>word</td>\n",
       "      <td>simple vs simple</td>\n",
       "      <td>fourgram</td>\n",
       "      <td>frequency</td>\n",
       "      <td>0.442082</td>\n",
       "      <td>no</td>\n",
       "    </tr>\n",
       "    <tr>\n",
       "      <th>3</th>\n",
       "      <td>char</td>\n",
       "      <td>simple vs simple</td>\n",
       "      <td>bigram</td>\n",
       "      <td>frequency</td>\n",
       "      <td>0.000022</td>\n",
       "      <td>yes</td>\n",
       "    </tr>\n",
       "    <tr>\n",
       "      <th>4</th>\n",
       "      <td>char</td>\n",
       "      <td>simple vs simple</td>\n",
       "      <td>trigram</td>\n",
       "      <td>frequency</td>\n",
       "      <td>0.023871</td>\n",
       "      <td>yes</td>\n",
       "    </tr>\n",
       "    <tr>\n",
       "      <th>5</th>\n",
       "      <td>char</td>\n",
       "      <td>simple vs simple</td>\n",
       "      <td>fourgram</td>\n",
       "      <td>frequency</td>\n",
       "      <td>0.550651</td>\n",
       "      <td>no</td>\n",
       "    </tr>\n",
       "  </tbody>\n",
       "</table>\n",
       "</div>"
      ],
      "text/plain": [
       "  ngram type           version     ngram     metric    pvalue significant\n",
       "0       word  simple vs simple    bigram  frequency  0.831348          no\n",
       "1       word  simple vs simple   trigram  frequency  0.340116          no\n",
       "2       word  simple vs simple  fourgram  frequency  0.442082          no\n",
       "3       char  simple vs simple    bigram  frequency  0.000022         yes\n",
       "4       char  simple vs simple   trigram  frequency  0.023871         yes\n",
       "5       char  simple vs simple  fourgram  frequency  0.550651          no"
      ]
     },
     "execution_count": 13,
     "metadata": {},
     "output_type": "execute_result"
    }
   ],
   "source": [
    "outcomes_df = pd.DataFrame(outcomes, columns = ['ngram type','version', 'ngram', 'metric', 'pvalue', 'significant'])\n",
    "outcomes_df"
   ]
  },
  {
   "cell_type": "code",
   "execution_count": 14,
   "id": "6d74dd09",
   "metadata": {},
   "outputs": [
    {
     "name": "stdout",
     "output_type": "stream",
     "text": [
      "bigram\n",
      "trigram\n",
      "fourgram\n",
      "bigram\n",
      "trigram\n",
      "fourgram\n"
     ]
    }
   ],
   "source": [
    "version1 = 'normal'\n",
    "version2 = 'normal'\n",
    "outcomes = []\n",
    "\n",
    "for ngramtype in ngramtypes:\n",
    "    for ngram in ngrams:\n",
    "        print(ngram)\n",
    "        res = wilcoxon(prepare_data(ngram, 'normal', freq_cutoff), metrics)\n",
    "        outcomes.extend(res)"
   ]
  },
  {
   "cell_type": "code",
   "execution_count": 15,
   "id": "22bad797",
   "metadata": {},
   "outputs": [
    {
     "data": {
      "text/html": [
       "<div>\n",
       "<style scoped>\n",
       "    .dataframe tbody tr th:only-of-type {\n",
       "        vertical-align: middle;\n",
       "    }\n",
       "\n",
       "    .dataframe tbody tr th {\n",
       "        vertical-align: top;\n",
       "    }\n",
       "\n",
       "    .dataframe thead th {\n",
       "        text-align: right;\n",
       "    }\n",
       "</style>\n",
       "<table border=\"1\" class=\"dataframe\">\n",
       "  <thead>\n",
       "    <tr style=\"text-align: right;\">\n",
       "      <th></th>\n",
       "      <th>ngram type</th>\n",
       "      <th>version</th>\n",
       "      <th>ngram</th>\n",
       "      <th>metric</th>\n",
       "      <th>pvalue</th>\n",
       "      <th>significant</th>\n",
       "    </tr>\n",
       "  </thead>\n",
       "  <tbody>\n",
       "    <tr>\n",
       "      <th>0</th>\n",
       "      <td>word</td>\n",
       "      <td>normal vs normal</td>\n",
       "      <td>bigram</td>\n",
       "      <td>frequency</td>\n",
       "      <td>0.162441</td>\n",
       "      <td>no</td>\n",
       "    </tr>\n",
       "    <tr>\n",
       "      <th>1</th>\n",
       "      <td>word</td>\n",
       "      <td>normal vs normal</td>\n",
       "      <td>trigram</td>\n",
       "      <td>frequency</td>\n",
       "      <td>0.619571</td>\n",
       "      <td>no</td>\n",
       "    </tr>\n",
       "    <tr>\n",
       "      <th>2</th>\n",
       "      <td>word</td>\n",
       "      <td>normal vs normal</td>\n",
       "      <td>fourgram</td>\n",
       "      <td>frequency</td>\n",
       "      <td>0.718637</td>\n",
       "      <td>no</td>\n",
       "    </tr>\n",
       "    <tr>\n",
       "      <th>3</th>\n",
       "      <td>char</td>\n",
       "      <td>normal vs normal</td>\n",
       "      <td>bigram</td>\n",
       "      <td>frequency</td>\n",
       "      <td>0.027550</td>\n",
       "      <td>yes</td>\n",
       "    </tr>\n",
       "    <tr>\n",
       "      <th>4</th>\n",
       "      <td>char</td>\n",
       "      <td>normal vs normal</td>\n",
       "      <td>trigram</td>\n",
       "      <td>frequency</td>\n",
       "      <td>0.021342</td>\n",
       "      <td>yes</td>\n",
       "    </tr>\n",
       "    <tr>\n",
       "      <th>5</th>\n",
       "      <td>char</td>\n",
       "      <td>normal vs normal</td>\n",
       "      <td>fourgram</td>\n",
       "      <td>frequency</td>\n",
       "      <td>0.044073</td>\n",
       "      <td>yes</td>\n",
       "    </tr>\n",
       "  </tbody>\n",
       "</table>\n",
       "</div>"
      ],
      "text/plain": [
       "  ngram type           version     ngram     metric    pvalue significant\n",
       "0       word  normal vs normal    bigram  frequency  0.162441          no\n",
       "1       word  normal vs normal   trigram  frequency  0.619571          no\n",
       "2       word  normal vs normal  fourgram  frequency  0.718637          no\n",
       "3       char  normal vs normal    bigram  frequency  0.027550         yes\n",
       "4       char  normal vs normal   trigram  frequency  0.021342         yes\n",
       "5       char  normal vs normal  fourgram  frequency  0.044073         yes"
      ]
     },
     "execution_count": 15,
     "metadata": {},
     "output_type": "execute_result"
    }
   ],
   "source": [
    "outcomes_df = pd.DataFrame(outcomes, columns = ['ngram type','version', 'ngram', 'metric', 'pvalue', 'significant'])\n",
    "outcomes_df"
   ]
  },
  {
   "cell_type": "markdown",
   "id": "10a46303",
   "metadata": {},
   "source": [
    "## Overlap"
   ]
  },
  {
   "cell_type": "code",
   "execution_count": 16,
   "id": "e86a27f2",
   "metadata": {},
   "outputs": [],
   "source": [
    "def prepare_data_overlap(ngram, version1, version2, freq_cutoff):\n",
    "        data1 = pd.read_csv(f\"Data/{version1}_{ngramtype}_{ngram}.csv\", index_col = 0)\n",
    "        data1 = data1[data1['frequency'] > (freq_cutoff - 1) ]\n",
    "        data2 = pd.read_csv(f\"Data/{version2}_{ngramtype}_{ngram}.csv\", index_col = 0)\n",
    "        data2 = data2[data2['frequency'] > (freq_cutoff - 1)]\n",
    "        data1 = data1[ngram].to_list()\n",
    "        data2 = data2[ngram].to_list()\n",
    "        return data1, data2"
   ]
  },
  {
   "cell_type": "code",
   "execution_count": 17,
   "id": "a014a33c",
   "metadata": {},
   "outputs": [
    {
     "name": "stdout",
     "output_type": "stream",
     "text": [
      "bigram\n",
      "1773476\n",
      "2205001\n",
      "639383\n",
      "Overlap simple : 36.05253186397786\n",
      "Overlap normal : 28.996948300703718\n",
      "trigram\n",
      "4205198\n",
      "4846608\n",
      "762894\n",
      "Overlap simple : 18.14169035560276\n",
      "Overlap normal : 15.740782006714799\n",
      "fourgram\n",
      "5759336\n",
      "6261211\n",
      "551499\n",
      "Overlap simple : 9.575739286612208\n",
      "Overlap normal : 8.808184231452989\n",
      "bigram\n",
      "1924\n",
      "1892\n",
      "1796\n",
      "Overlap simple : 93.34719334719335\n",
      "Overlap normal : 94.9260042283298\n",
      "trigram\n",
      "22906\n",
      "24662\n",
      "19235\n",
      "Overlap simple : 83.97363136296167\n",
      "Overlap normal : 77.99448544319195\n",
      "fourgram\n",
      "119746\n",
      "133330\n",
      "93660\n",
      "Overlap simple : 78.21555626075192\n",
      "Overlap normal : 70.24675616890423\n"
     ]
    }
   ],
   "source": [
    "version1 = 'simple'\n",
    "version2 = 'normal'\n",
    "\n",
    "for ngramtype in ngramtypes:\n",
    "    for ngram in ngrams:\n",
    "        print(ngram)\n",
    "        data1, data2 = prepare_data_overlap(ngram, version1, version2, freq_cutoff)\n",
    "        len1 = len(set(data1))\n",
    "        print(len1)\n",
    "        len2 = (len(set(data2)))\n",
    "        print(len2)\n",
    "        overlap = set(data1).intersection(set(data2))\n",
    "        print(len(overlap))\n",
    "        print(f'Overlap {version1} : {((len(overlap)/len1)*100)}')\n",
    "        print(f'Overlap {version2} : {((len(overlap)/len2)*100)}')"
   ]
  },
  {
   "cell_type": "code",
   "execution_count": 18,
   "id": "b82c72c7",
   "metadata": {},
   "outputs": [],
   "source": [
    "def venn(ngram, version1, version2):   \n",
    "    data1 = pd.read_csv(f\"Data/{version1}_{ngramtype}_{ngram}.csv\", index_col = 0)\n",
    "    data1 = data1[data1['frequency'] > (freq_cutoff - 1) ]\n",
    "    data2 = pd.read_csv(f\"Data/{version2}_{ngramtype}_{ngram}.csv\", index_col = 0)\n",
    "    data2 = data2[data2['frequency'] > (freq_cutoff - 1)]\n",
    "    data_grams1 = data1[ngram].to_list()\n",
    "    data_grams2 = data2[ngram].to_list()\n",
    "    venn2([set(data_grams1), set(data_grams2)], \n",
    "    set_colors=('#3E64AF', '#3EAF5D'), \n",
    "    set_labels = (f'{ngram} {version1}', \n",
    "                    f'{ngram} {version2}'),\n",
    "                      alpha=0.75)\n",
    "    plt.title(\"Cut-off freqiencies at 0\")\n",
    "    venn2_circles([set(data_grams1), set(data_grams2)], lw=0.7)\n",
    "    return plt"
   ]
  },
  {
   "cell_type": "code",
   "execution_count": 19,
   "id": "8d240b8e",
   "metadata": {},
   "outputs": [
    {
     "name": "stdout",
     "output_type": "stream",
     "text": [
      "bigram\n"
     ]
    },
    {
     "data": {
      "image/png": "[encoded data removed]",
      "text/plain": [
       "<Figure size 432x288 with 1 Axes>"
      ]
     },
     "metadata": {},
     "output_type": "display_data"
    },
    {
     "name": "stdout",
     "output_type": "stream",
     "text": [
      "trigram\n"
     ]
    },
    {
     "data": {
      "image/png": "[encoded data removed]",
      "text/plain": [
       "<Figure size 432x288 with 1 Axes>"
      ]
     },
     "metadata": {},
     "output_type": "display_data"
    },
    {
     "name": "stdout",
     "output_type": "stream",
     "text": [
      "fourgram\n"
     ]
    },
    {
     "data": {
      "image/png": "[encoded data removed]",
      "text/plain": [
       "<Figure size 432x288 with 1 Axes>"
      ]
     },
     "metadata": {},
     "output_type": "display_data"
    },
    {
     "name": "stdout",
     "output_type": "stream",
     "text": [
      "bigram\n"
     ]
    },
    {
     "data": {
      "image/png": "[encoded data removed]",
      "text/plain": [
       "<Figure size 432x288 with 1 Axes>"
      ]
     },
     "metadata": {},
     "output_type": "display_data"
    },
    {
     "name": "stdout",
     "output_type": "stream",
     "text": [
      "trigram\n"
     ]
    },
    {
     "data": {
      "image/png": "[encoded data removed]",
      "text/plain": [
       "<Figure size 432x288 with 1 Axes>"
      ]
     },
     "metadata": {},
     "output_type": "display_data"
    },
    {
     "name": "stdout",
     "output_type": "stream",
     "text": [
      "fourgram\n"
     ]
    },
    {
     "data": {
      "image/png": "[encoded data removed]",
      "text/plain": [
       "<Figure size 432x288 with 1 Axes>"
      ]
     },
     "metadata": {},
     "output_type": "display_data"
    }
   ],
   "source": [
    "for ngramtype in ngramtypes:\n",
    "    for ngram in ngrams:\n",
    "        print(ngram)\n",
    "        plt =  venn(ngram, version1, version2)\n",
    "        plt.show()"
   ]
  },
  {
   "cell_type": "code",
   "execution_count": null,
   "id": "bf960018",
   "metadata": {},
   "outputs": [],
   "source": []
  }
 ],
 "metadata": {
  "kernelspec": {
   "display_name": "Python 3 (ipykernel)",
   "language": "python",
   "name": "python3"
  },
  "language_info": {
   "codemirror_mode": {
    "name": "ipython",
    "version": 3
   },
   "file_extension": ".py",
   "mimetype": "text/x-python",
   "name": "python",
   "nbconvert_exporter": "python",
   "pygments_lexer": "ipython3",
   "version": "3.9.12"
  }
 },
 "nbformat": 4,
 "nbformat_minor": 5
}
